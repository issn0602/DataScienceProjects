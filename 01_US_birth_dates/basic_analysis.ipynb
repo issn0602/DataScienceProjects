{
 "cells": [
  {
   "cell_type": "markdown",
   "metadata": {},
   "source": [
    "# US Birth Statistics\n",
    "\n",
    "Dataset : Centers for Disease Control and Prevention's National National Center for Health Statistics"
   ]
  },
  {
   "cell_type": "markdown",
   "metadata": {},
   "source": [
    "First the file is opened in read mode and read into a variable. The variable type is printed to guide further analysis."
   ]
  },
  {
   "cell_type": "code",
   "execution_count": 15,
   "metadata": {},
   "outputs": [
    {
     "name": "stdout",
     "output_type": "stream",
     "text": [
      "<class 'str'>\n"
     ]
    }
   ],
   "source": [
    "data = open(\"birth_dates.csv\").read()\n",
    "print(type(data))"
   ]
  },
  {
   "cell_type": "markdown",
   "metadata": {},
   "source": [
    "The vaiable is a string. The first 100 or so characters are printed to get a better understanding."
   ]
  },
  {
   "cell_type": "code",
   "execution_count": 16,
   "metadata": {},
   "outputs": [
    {
     "name": "stdout",
     "output_type": "stream",
     "text": [
      "year,month,date_of_month,day_of_week,births\n",
      "1994,1,1,6,8096\n",
      "1994,1,2,7,7772\n",
      "1994,1,3,1,10142\n",
      "1994,1,4,2,11248\n",
      "1994,1,5,3,11053\n"
     ]
    }
   ],
   "source": [
    "print(data[0:126])"
   ]
  },
  {
   "cell_type": "markdown",
   "metadata": {},
   "source": [
    "We see that the dataset is compsed of the following columns\n",
    "- Year\n",
    "- Month\n",
    "- Day of Month\n",
    "- Day of week\n",
    "- Number of births per day"
   ]
  },
  {
   "cell_type": "markdown",
   "metadata": {},
   "source": [
    "To extract the dataset row by row, the variable is split on the '\\n' delimiter. The first row with the column headings is stored in a header variable and the acctual data is stored in a data variable for further processing"
   ]
  },
  {
   "cell_type": "code",
   "execution_count": 17,
   "metadata": {},
   "outputs": [
    {
     "name": "stdout",
     "output_type": "stream",
     "text": [
      "year,month,date_of_month,day_of_week,births\n",
      "['1994,1,1,6,8096', '1994,1,2,7,7772', '1994,1,3,1,10142', '1994,1,4,2,11248', '1994,1,5,3,11053']\n"
     ]
    }
   ],
   "source": [
    "data = data.split('\\n')\n",
    "header = data[0]\n",
    "data = data[1:]\n",
    "print(header)\n",
    "print(data[0:5])"
   ]
  },
  {
   "cell_type": "markdown",
   "metadata": {},
   "source": [
    "Each row in the variable is a string seperated by commas. Each row of data is split on comma and the data is turned into a list of list : ndata."
   ]
  },
  {
   "cell_type": "code",
   "execution_count": 18,
   "metadata": {},
   "outputs": [
    {
     "name": "stdout",
     "output_type": "stream",
     "text": [
      "[['1994', '1', '1', '6', '8096'], ['1994', '1', '2', '7', '7772'], ['1994', '1', '3', '1', '10142'], ['1994', '1', '4', '2', '11248'], ['1994', '1', '5', '3', '11053']]\n"
     ]
    }
   ],
   "source": [
    "ndata = []\n",
    "for item in data:\n",
    "    ndata.append(item.split(','))\n",
    "print(ndata[0:5])"
   ]
  },
  {
   "cell_type": "markdown",
   "metadata": {},
   "source": [
    "# Counting the number of births per day of month, per month and per year"
   ]
  },
  {
   "cell_type": "code",
   "execution_count": 19,
   "metadata": {},
   "outputs": [],
   "source": [
    "birth_per_dom = {}\n",
    "birth_per_dow = {}\n",
    "birth_per_month = {}\n",
    "birth_per_year = {}\n",
    "for item in ndata:\n",
    "    if item[0] in birth_per_year:\n",
    "        birth_per_year[item[0]] += int(item[4])\n",
    "    else:\n",
    "        birth_per_year[item[0]] = int(item[4])\n",
    "    if item[1] in birth_per_month:\n",
    "        birth_per_month[item[1]] += int(item[4])\n",
    "    else:\n",
    "        birth_per_month[item[1]] = int(item[4])\n",
    "    if item[2] in birth_per_dom:\n",
    "        birth_per_dom[item[2]] += int(item[4])\n",
    "    else:\n",
    "        birth_per_dom[item[2]] = int(item[4])\n",
    "    if item[3] in birth_per_dow:\n",
    "        birth_per_dow[item[3]] += int(item[4])\n",
    "    else:\n",
    "        birth_per_dow[item[3]] = int(item[4])"
   ]
  },
  {
   "cell_type": "markdown",
   "metadata": {},
   "source": [
    "# Displaying the results"
   ]
  },
  {
   "cell_type": "markdown",
   "metadata": {},
   "source": [
    "Births per year"
   ]
  },
  {
   "cell_type": "code",
   "execution_count": 20,
   "metadata": {},
   "outputs": [
    {
     "name": "stdout",
     "output_type": "stream",
     "text": [
      "[('1994', 3952767), ('1995', 3899589), ('1996', 3891494), ('1997', 3880894), ('1998', 3941553), ('1999', 3959417), ('2000', 4058814), ('2001', 4025933), ('2002', 4021726), ('2003', 4089950)]\n"
     ]
    }
   ],
   "source": [
    "print(sorted(birth_per_year.items()))"
   ]
  },
  {
   "cell_type": "markdown",
   "metadata": {},
   "source": [
    "Births per month"
   ]
  },
  {
   "cell_type": "code",
   "execution_count": 21,
   "metadata": {},
   "outputs": [
    {
     "name": "stdout",
     "output_type": "stream",
     "text": [
      "[('1', 3232517), ('10', 3378814), ('11', 3171647), ('12', 3301860), ('2', 3018140), ('3', 3322069), ('4', 3185314), ('5', 3350907), ('6', 3296530), ('7', 3498783), ('8', 3525858), ('9', 3439698)]\n"
     ]
    }
   ],
   "source": [
    "print(sorted(birth_per_month.items()))"
   ]
  },
  {
   "cell_type": "code",
   "execution_count": 22,
   "metadata": {},
   "outputs": [
    {
     "name": "stdout",
     "output_type": "stream",
     "text": [
      "[('1', 1276557), ('10', 1320764), ('11', 1314361), ('12', 1318437), ('13', 1277684), ('14', 1320153), ('15', 1319171), ('16', 1315192), ('17', 1324953), ('18', 1326855), ('19', 1318727), ('2', 1288739), ('20', 1324821), ('21', 1322897), ('22', 1317381), ('23', 1293290), ('24', 1288083), ('25', 1272116), ('26', 1284796), ('27', 1294395), ('28', 1307685), ('29', 1223161), ('3', 1304499), ('30', 1202095), ('31', 746696), ('4', 1288154), ('5', 1299953), ('6', 1304474), ('7', 1310459), ('8', 1312297), ('9', 1303292)]\n"
     ]
    }
   ],
   "source": [
    "print(sorted(birth_per_dom.items()))"
   ]
  },
  {
   "cell_type": "code",
   "execution_count": 23,
   "metadata": {},
   "outputs": [
    {
     "name": "stdout",
     "output_type": "stream",
     "text": [
      "[('1', 5789166), ('2', 6446196), ('3', 6322855), ('4', 6288429), ('5', 6233657), ('6', 4562111), ('7', 4079723)]\n"
     ]
    }
   ],
   "source": [
    "print(sorted(birth_per_dow.items()))"
   ]
  }
 ],
 "metadata": {
  "kernelspec": {
   "display_name": "Python 3",
   "language": "python",
   "name": "python3"
  },
  "language_info": {
   "codemirror_mode": {
    "name": "ipython",
    "version": 3
   },
   "file_extension": ".py",
   "mimetype": "text/x-python",
   "name": "python",
   "nbconvert_exporter": "python",
   "pygments_lexer": "ipython3",
   "version": "3.6.4"
  }
 },
 "nbformat": 4,
 "nbformat_minor": 2
}
